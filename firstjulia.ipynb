{
 "cells": [
  {
   "cell_type": "code",
   "execution_count": 1,
   "metadata": {},
   "outputs": [],
   "source": [
    "using Pkg"
   ]
  },
  {
   "cell_type": "code",
   "execution_count": 27,
   "metadata": {},
   "outputs": [
    {
     "name": "stdout",
     "output_type": "stream",
     "text": [
      "\u001b[32m\u001b[1m  Updating\u001b[22m\u001b[39m registry at `C:\\Users\\Aimazin\\.julia\\registries\\General`\n",
      "\u001b[32m\u001b[1m  Updating\u001b[22m\u001b[39m git-repo `https://github.com/JuliaRegistries/General.git`\n",
      "\u001b[2K\u001b[?25h[1mFetching:\u001b[22m\u001b[39m [========================================>]  100.0 %.0 %0 %\u001b[32m\u001b[1m Resolving\u001b[22m\u001b[39m package versions...\n",
      "\u001b[32m\u001b[1m  Updating\u001b[22m\u001b[39m `C:\\Users\\Aimazin\\.julia\\environments\\v1.3\\Project.toml`\n",
      "\u001b[90m [no changes]\u001b[39m\n",
      "\u001b[32m\u001b[1m  Updating\u001b[22m\u001b[39m `C:\\Users\\Aimazin\\.julia\\environments\\v1.3\\Manifest.toml`\n",
      "\u001b[90m [no changes]\u001b[39m\n"
     ]
    }
   ],
   "source": [
    "Pkg.update()"
   ]
  },
  {
   "cell_type": "code",
   "execution_count": 4,
   "metadata": {},
   "outputs": [
    {
     "name": "stdout",
     "output_type": "stream",
     "text": [
      "\u001b[32m\u001b[1m  Updating\u001b[22m\u001b[39m registry at `C:\\Users\\Aimazin\\.julia\\registries\\General`\n",
      "\u001b[32m\u001b[1m  Updating\u001b[22m\u001b[39m git-repo `https://github.com/JuliaRegistries/General.git`\n",
      "\u001b[2K\u001b[?25h[1mFetching:\u001b[22m\u001b[39m [========================================>]  100.0 %.0 %\u001b[32m\u001b[1m Resolving\u001b[22m\u001b[39m package versions...\n",
      "\u001b[32m\u001b[1m Installed\u001b[22m\u001b[39m Rmath ─────────────────────── v0.6.0\n",
      "\u001b[32m\u001b[1m Installed\u001b[22m\u001b[39m PDMats ────────────────────── v0.9.11\n",
      "\u001b[32m\u001b[1m Installed\u001b[22m\u001b[39m Arpack_jll ────────────────── v3.5.0+2\n",
      "\u001b[32m\u001b[1m Installed\u001b[22m\u001b[39m OpenBLAS_jll ──────────────── v0.3.7+5\n",
      "\u001b[32m\u001b[1m Installed\u001b[22m\u001b[39m StatsModels ───────────────── v0.6.7\n",
      "\u001b[32m\u001b[1m Installed\u001b[22m\u001b[39m ShiftedArrays ─────────────── v1.0.0\n",
      "\u001b[32m\u001b[1m Installed\u001b[22m\u001b[39m GLM ───────────────────────── v1.3.6\n",
      "\u001b[32m\u001b[1m Installed\u001b[22m\u001b[39m StatsBase ─────────────────── v0.32.0\n",
      "\u001b[32m\u001b[1m Installed\u001b[22m\u001b[39m Reexport ──────────────────── v0.2.0\n",
      "\u001b[32m\u001b[1m Installed\u001b[22m\u001b[39m Missings ──────────────────── v0.4.3\n",
      "\u001b[32m\u001b[1m Installed\u001b[22m\u001b[39m DataAPI ───────────────────── v1.1.0\n",
      "\u001b[32m\u001b[1m Installed\u001b[22m\u001b[39m TableTraits ───────────────── v1.0.0\n",
      "\u001b[32m\u001b[1m Installed\u001b[22m\u001b[39m Tables ────────────────────── v0.2.11\n",
      "\u001b[32m\u001b[1m Installed\u001b[22m\u001b[39m OpenSpecFun_jll ───────────── v0.5.3+1\n",
      "\u001b[32m\u001b[1m Installed\u001b[22m\u001b[39m StatsFuns ─────────────────── v0.9.3\n",
      "\u001b[32m\u001b[1m Installed\u001b[22m\u001b[39m DataStructures ────────────── v0.17.9\n",
      "\u001b[32m\u001b[1m Installed\u001b[22m\u001b[39m DataValueInterfaces ───────── v1.0.0\n",
      "\u001b[32m\u001b[1m Installed\u001b[22m\u001b[39m Arpack ────────────────────── v0.4.0\n",
      "\u001b[32m\u001b[1m Installed\u001b[22m\u001b[39m IteratorInterfaceExtensions ─ v1.0.0\n",
      "\u001b[32m\u001b[1m Installed\u001b[22m\u001b[39m QuadGK ────────────────────── v2.3.1\n",
      "\u001b[32m\u001b[1m Installed\u001b[22m\u001b[39m FillArrays ────────────────── v0.8.4\n",
      "\u001b[32m\u001b[1m Installed\u001b[22m\u001b[39m SpecialFunctions ──────────── v0.9.0\n",
      "\u001b[32m\u001b[1m Installed\u001b[22m\u001b[39m OrderedCollections ────────── v1.1.0\n",
      "\u001b[32m\u001b[1m Installed\u001b[22m\u001b[39m SortingAlgorithms ─────────── v0.3.1\n",
      "\u001b[32m\u001b[1m Installed\u001b[22m\u001b[39m Distributions ─────────────── v0.22.4\n",
      "\u001b[32m\u001b[1m  Updating\u001b[22m\u001b[39m `C:\\Users\\Aimazin\\.julia\\environments\\v1.3\\Project.toml`\n",
      " \u001b[90m [38e38edf]\u001b[39m\u001b[92m + GLM v1.3.6\u001b[39m\n",
      "\u001b[32m\u001b[1m  Updating\u001b[22m\u001b[39m `C:\\Users\\Aimazin\\.julia\\environments\\v1.3\\Manifest.toml`\n",
      " \u001b[90m [7d9fca2a]\u001b[39m\u001b[92m + Arpack v0.4.0\u001b[39m\n",
      " \u001b[90m [68821587]\u001b[39m\u001b[92m + Arpack_jll v3.5.0+2\u001b[39m\n",
      " \u001b[90m [9a962f9c]\u001b[39m\u001b[92m + DataAPI v1.1.0\u001b[39m\n",
      " \u001b[90m [864edb3b]\u001b[39m\u001b[92m + DataStructures v0.17.9\u001b[39m\n",
      " \u001b[90m [e2d170a0]\u001b[39m\u001b[92m + DataValueInterfaces v1.0.0\u001b[39m\n",
      " \u001b[90m [31c24e10]\u001b[39m\u001b[92m + Distributions v0.22.4\u001b[39m\n",
      " \u001b[90m [1a297f60]\u001b[39m\u001b[92m + FillArrays v0.8.4\u001b[39m\n",
      " \u001b[90m [38e38edf]\u001b[39m\u001b[92m + GLM v1.3.6\u001b[39m\n",
      " \u001b[90m [82899510]\u001b[39m\u001b[92m + IteratorInterfaceExtensions v1.0.0\u001b[39m\n",
      " \u001b[90m [e1d29d7a]\u001b[39m\u001b[92m + Missings v0.4.3\u001b[39m\n",
      " \u001b[90m [4536629a]\u001b[39m\u001b[92m + OpenBLAS_jll v0.3.7+5\u001b[39m\n",
      " \u001b[90m [efe28fd5]\u001b[39m\u001b[92m + OpenSpecFun_jll v0.5.3+1\u001b[39m\n",
      " \u001b[90m [bac558e1]\u001b[39m\u001b[92m + OrderedCollections v1.1.0\u001b[39m\n",
      " \u001b[90m [90014a1f]\u001b[39m\u001b[92m + PDMats v0.9.11\u001b[39m\n",
      " \u001b[90m [1fd47b50]\u001b[39m\u001b[92m + QuadGK v2.3.1\u001b[39m\n",
      " \u001b[90m [189a3867]\u001b[39m\u001b[92m + Reexport v0.2.0\u001b[39m\n",
      " \u001b[90m [79098fc4]\u001b[39m\u001b[92m + Rmath v0.6.0\u001b[39m\n",
      " \u001b[90m [1277b4bf]\u001b[39m\u001b[92m + ShiftedArrays v1.0.0\u001b[39m\n",
      " \u001b[90m [a2af1166]\u001b[39m\u001b[92m + SortingAlgorithms v0.3.1\u001b[39m\n",
      " \u001b[90m [276daf66]\u001b[39m\u001b[92m + SpecialFunctions v0.9.0\u001b[39m\n",
      " \u001b[90m [2913bbd2]\u001b[39m\u001b[92m + StatsBase v0.32.0\u001b[39m\n",
      " \u001b[90m [4c63d2b9]\u001b[39m\u001b[92m + StatsFuns v0.9.3\u001b[39m\n",
      " \u001b[90m [3eaba693]\u001b[39m\u001b[92m + StatsModels v0.6.7\u001b[39m\n",
      " \u001b[90m [3783bdb8]\u001b[39m\u001b[92m + TableTraits v1.0.0\u001b[39m\n",
      " \u001b[90m [bd369af6]\u001b[39m\u001b[92m + Tables v0.2.11\u001b[39m\n",
      " \u001b[90m [37e2e46d]\u001b[39m\u001b[92m + LinearAlgebra \u001b[39m\n",
      " \u001b[90m [2f01184e]\u001b[39m\u001b[92m + SparseArrays \u001b[39m\n",
      " \u001b[90m [10745b16]\u001b[39m\u001b[92m + Statistics \u001b[39m\n",
      " \u001b[90m [4607b0f0]\u001b[39m\u001b[92m + SuiteSparse \u001b[39m\n",
      "\u001b[32m\u001b[1m  Building\u001b[22m\u001b[39m Rmath → `C:\\Users\\Aimazin\\.julia\\packages\\Rmath\\BoBag\\deps\\build.log`\n"
     ]
    }
   ],
   "source": [
    "Pkg.add(\"GLM\")"
   ]
  },
  {
   "cell_type": "code",
   "execution_count": 5,
   "metadata": {},
   "outputs": [
    {
     "name": "stdout",
     "output_type": "stream",
     "text": [
      "\u001b[32m\u001b[1m Resolving\u001b[22m\u001b[39m package versions...\n",
      "\u001b[32m\u001b[1m Installed\u001b[22m\u001b[39m PooledArrays ─────── v0.5.3\n",
      "\u001b[32m\u001b[1m Installed\u001b[22m\u001b[39m Compat ───────────── v3.3.1\n",
      "\u001b[32m\u001b[1m Installed\u001b[22m\u001b[39m Libiconv_jll ─────── v1.16.0+1\n",
      "\u001b[32m\u001b[1m Installed\u001b[22m\u001b[39m InvertedIndices ──── v1.0.0\n",
      "\u001b[32m\u001b[1m Installed\u001b[22m\u001b[39m Requires ─────────── v1.0.1\n",
      "\u001b[32m\u001b[1m Installed\u001b[22m\u001b[39m Zlib_jll ─────────── v1.2.11+8\n",
      "\u001b[32m\u001b[1m Installed\u001b[22m\u001b[39m TranscodingStreams ─ v0.9.5\n",
      "\u001b[32m\u001b[1m Installed\u001b[22m\u001b[39m ExprTools ────────── v0.1.0\n",
      "\u001b[32m\u001b[1m Installed\u001b[22m\u001b[39m Mocking ──────────── v0.7.1\n",
      "\u001b[32m\u001b[1m Installed\u001b[22m\u001b[39m WeakRefStrings ───── v0.6.2\n",
      "\u001b[32m\u001b[1m Installed\u001b[22m\u001b[39m EzXML ────────────── v1.1.0\n",
      "\u001b[32m\u001b[1m Installed\u001b[22m\u001b[39m FileIO ───────────── v1.2.1\n",
      "\u001b[32m\u001b[1m Installed\u001b[22m\u001b[39m DataFrames ───────── v0.20.0\n",
      "\u001b[32m\u001b[1m Installed\u001b[22m\u001b[39m TimeZones ────────── v1.0.0\n",
      "\u001b[32m\u001b[1m Installed\u001b[22m\u001b[39m XML2_jll ─────────── v2.9.9+1\n",
      "\u001b[32m\u001b[1m Installed\u001b[22m\u001b[39m CodecZlib ────────── v0.6.0\n",
      "\u001b[32m\u001b[1m Installed\u001b[22m\u001b[39m FilePathsBase ────── v0.7.0\n",
      "\u001b[32m\u001b[1m Installed\u001b[22m\u001b[39m CategoricalArrays ── v0.7.7\n"
     ]
    },
    {
     "name": "stderr",
     "output_type": "stream",
     "text": [
      "┌ Info: Replacing symlinks in tarball by their source files ...\n",
      "│ \"JuliaData-RData.jl-cb2b11b\\\\docs\\\\src\\\\LICENSE.md\" => \"JuliaData-RData.jl-cb2b11b\\\\docs\\\\src\\\\../../LICENSE.md\"\n",
      "│ \"JuliaData-RData.jl-cb2b11b\\\\docs\\\\src\\\\NEWS.md\" => \"JuliaData-RData.jl-cb2b11b\\\\docs\\\\src\\\\../../NEWS.md\"\n",
      "└ @ Pkg.PlatformEngines D:\\buildbot\\worker\\package_win64\\build\\usr\\share\\julia\\stdlib\\v1.3\\Pkg\\src\\PlatformEngines.jl:755\n"
     ]
    },
    {
     "name": "stdout",
     "output_type": "stream",
     "text": [
      "\u001b[32m\u001b[1m Installed\u001b[22m\u001b[39m CSV ──────────────── v0.5.23\n",
      "\u001b[32m\u001b[1m Installed\u001b[22m\u001b[39m RData ────────────── v0.6.3\n",
      "\u001b[32m\u001b[1m Installed\u001b[22m\u001b[39m RDatasets ────────── v0.6.6\n",
      "\u001b[32m\u001b[1m  Updating\u001b[22m\u001b[39m `C:\\Users\\Aimazin\\.julia\\environments\\v1.3\\Project.toml`\n",
      " \u001b[90m [ce6b1742]\u001b[39m\u001b[92m + RDatasets v0.6.6\u001b[39m\n",
      "\u001b[32m\u001b[1m  Updating\u001b[22m\u001b[39m `C:\\Users\\Aimazin\\.julia\\environments\\v1.3\\Manifest.toml`\n",
      " \u001b[90m [336ed68f]\u001b[39m\u001b[92m + CSV v0.5.23\u001b[39m\n",
      " \u001b[90m [324d7699]\u001b[39m\u001b[92m + CategoricalArrays v0.7.7\u001b[39m\n",
      " \u001b[90m [944b1d66]\u001b[39m\u001b[92m + CodecZlib v0.6.0\u001b[39m\n",
      " \u001b[90m [34da2185]\u001b[39m\u001b[92m + Compat v3.3.1\u001b[39m\n",
      " \u001b[90m [a93c6f00]\u001b[39m\u001b[92m + DataFrames v0.20.0\u001b[39m\n",
      " \u001b[90m [e2ba6199]\u001b[39m\u001b[92m + ExprTools v0.1.0\u001b[39m\n",
      " \u001b[90m [8f5d6c58]\u001b[39m\u001b[92m + EzXML v1.1.0\u001b[39m\n",
      " \u001b[90m [5789e2e9]\u001b[39m\u001b[92m + FileIO v1.2.1\u001b[39m\n",
      " \u001b[90m [48062228]\u001b[39m\u001b[92m + FilePathsBase v0.7.0\u001b[39m\n",
      " \u001b[90m [41ab1584]\u001b[39m\u001b[92m + InvertedIndices v1.0.0\u001b[39m\n",
      " \u001b[90m [94ce4f54]\u001b[39m\u001b[92m + Libiconv_jll v1.16.0+1\u001b[39m\n",
      " \u001b[90m [78c3b35d]\u001b[39m\u001b[92m + Mocking v0.7.1\u001b[39m\n",
      " \u001b[90m [2dfb63ee]\u001b[39m\u001b[92m + PooledArrays v0.5.3\u001b[39m\n",
      " \u001b[90m [df47a6cb]\u001b[39m\u001b[92m + RData v0.6.3\u001b[39m\n",
      " \u001b[90m [ce6b1742]\u001b[39m\u001b[92m + RDatasets v0.6.6\u001b[39m\n",
      " \u001b[90m [ae029012]\u001b[39m\u001b[92m + Requires v1.0.1\u001b[39m\n",
      " \u001b[90m [f269a46b]\u001b[39m\u001b[92m + TimeZones v1.0.0\u001b[39m\n",
      " \u001b[90m [3bb67fe8]\u001b[39m\u001b[92m + TranscodingStreams v0.9.5\u001b[39m\n",
      " \u001b[90m [ea10d353]\u001b[39m\u001b[92m + WeakRefStrings v0.6.2\u001b[39m\n",
      " \u001b[90m [02c8fc9c]\u001b[39m\u001b[92m + XML2_jll v2.9.9+1\u001b[39m\n",
      " \u001b[90m [83775a58]\u001b[39m\u001b[92m + Zlib_jll v1.2.11+8\u001b[39m\n",
      " \u001b[90m [8bb1440f]\u001b[39m\u001b[92m + DelimitedFiles \u001b[39m\n",
      " \u001b[90m [9fa8497b]\u001b[39m\u001b[92m + Future \u001b[39m\n",
      " \u001b[90m [1a1011a3]\u001b[39m\u001b[92m + SharedArrays \u001b[39m\n",
      "\u001b[32m\u001b[1m  Building\u001b[22m\u001b[39m TimeZones → `C:\\Users\\Aimazin\\.julia\\packages\\TimeZones\\vYAiM\\deps\\build.log`\n",
      "\u001b[32m\u001b[1m  Building\u001b[22m\u001b[39m CodecZlib → `C:\\Users\\Aimazin\\.julia\\packages\\CodecZlib\\5t9zO\\deps\\build.log`\n"
     ]
    }
   ],
   "source": [
    "Pkg.add(\"RDatasets\")"
   ]
  },
  {
   "cell_type": "code",
   "execution_count": 2,
   "metadata": {},
   "outputs": [],
   "source": [
    "using  RDatasets"
   ]
  },
  {
   "cell_type": "code",
   "execution_count": 3,
   "metadata": {},
   "outputs": [
    {
     "data": {
      "text/html": [
       "<table class=\"data-frame\"><thead><tr><th></th><th>Country</th><th>SR</th><th>Pop15</th><th>Pop75</th><th>DPI</th><th>DDPI</th></tr><tr><th></th><th>String</th><th>Float64</th><th>Float64</th><th>Float64</th><th>Float64</th><th>Float64</th></tr></thead><tbody><p>50 rows × 6 columns</p><tr><th>1</th><td>Australia</td><td>11.43</td><td>29.35</td><td>2.87</td><td>2329.68</td><td>2.87</td></tr><tr><th>2</th><td>Austria</td><td>12.07</td><td>23.32</td><td>4.41</td><td>1507.99</td><td>3.93</td></tr><tr><th>3</th><td>Belgium</td><td>13.17</td><td>23.8</td><td>4.43</td><td>2108.47</td><td>3.82</td></tr><tr><th>4</th><td>Bolivia</td><td>5.75</td><td>41.89</td><td>1.67</td><td>189.13</td><td>0.22</td></tr><tr><th>5</th><td>Brazil</td><td>12.88</td><td>42.19</td><td>0.83</td><td>728.47</td><td>4.56</td></tr><tr><th>6</th><td>Canada</td><td>8.79</td><td>31.72</td><td>2.85</td><td>2982.88</td><td>2.43</td></tr><tr><th>7</th><td>Chile</td><td>0.6</td><td>39.74</td><td>1.34</td><td>662.86</td><td>2.67</td></tr><tr><th>8</th><td>China</td><td>11.9</td><td>44.75</td><td>0.67</td><td>289.52</td><td>6.51</td></tr><tr><th>9</th><td>Colombia</td><td>4.98</td><td>46.64</td><td>1.06</td><td>276.65</td><td>3.08</td></tr><tr><th>10</th><td>Costa Rica</td><td>10.78</td><td>47.64</td><td>1.14</td><td>471.24</td><td>2.8</td></tr><tr><th>11</th><td>Denmark</td><td>16.85</td><td>24.42</td><td>3.93</td><td>2496.53</td><td>3.99</td></tr><tr><th>12</th><td>Ecuador</td><td>3.59</td><td>46.31</td><td>1.19</td><td>287.77</td><td>2.19</td></tr><tr><th>13</th><td>Finland</td><td>11.24</td><td>27.84</td><td>2.37</td><td>1681.25</td><td>4.32</td></tr><tr><th>14</th><td>France</td><td>12.64</td><td>25.06</td><td>4.7</td><td>2213.82</td><td>4.52</td></tr><tr><th>15</th><td>Germany</td><td>12.55</td><td>23.31</td><td>3.35</td><td>2457.12</td><td>3.44</td></tr><tr><th>16</th><td>Greece</td><td>10.67</td><td>25.62</td><td>3.1</td><td>870.85</td><td>6.28</td></tr><tr><th>17</th><td>Guatamala</td><td>3.01</td><td>46.05</td><td>0.87</td><td>289.71</td><td>1.48</td></tr><tr><th>18</th><td>Honduras</td><td>7.7</td><td>47.32</td><td>0.58</td><td>232.44</td><td>3.19</td></tr><tr><th>19</th><td>Iceland</td><td>1.27</td><td>34.03</td><td>3.08</td><td>1900.1</td><td>1.12</td></tr><tr><th>20</th><td>India</td><td>9.0</td><td>41.31</td><td>0.96</td><td>88.94</td><td>1.54</td></tr><tr><th>21</th><td>Ireland</td><td>11.34</td><td>31.16</td><td>4.19</td><td>1139.95</td><td>2.99</td></tr><tr><th>22</th><td>Italy</td><td>14.28</td><td>24.52</td><td>3.48</td><td>1390.0</td><td>3.54</td></tr><tr><th>23</th><td>Japan</td><td>21.1</td><td>27.01</td><td>1.91</td><td>1257.28</td><td>8.21</td></tr><tr><th>24</th><td>Korea</td><td>3.98</td><td>41.74</td><td>0.91</td><td>207.68</td><td>5.81</td></tr><tr><th>25</th><td>Luxembourg</td><td>10.35</td><td>21.8</td><td>3.73</td><td>2449.39</td><td>1.57</td></tr><tr><th>26</th><td>Malta</td><td>15.48</td><td>32.54</td><td>2.47</td><td>601.05</td><td>8.12</td></tr><tr><th>27</th><td>Norway</td><td>10.25</td><td>25.95</td><td>3.67</td><td>2231.03</td><td>3.62</td></tr><tr><th>28</th><td>Netherlands</td><td>14.65</td><td>24.71</td><td>3.25</td><td>1740.7</td><td>7.66</td></tr><tr><th>29</th><td>New Zealand</td><td>10.67</td><td>32.61</td><td>3.17</td><td>1487.52</td><td>1.76</td></tr><tr><th>30</th><td>Nicaragua</td><td>7.3</td><td>45.04</td><td>1.21</td><td>325.54</td><td>2.48</td></tr><tr><th>&vellip;</th><td>&vellip;</td><td>&vellip;</td><td>&vellip;</td><td>&vellip;</td><td>&vellip;</td><td>&vellip;</td></tr></tbody></table>"
      ],
      "text/latex": [
       "\\begin{tabular}{r|cccccc}\n",
       "\t& Country & SR & Pop15 & Pop75 & DPI & DDPI\\\\\n",
       "\t\\hline\n",
       "\t& String & Float64 & Float64 & Float64 & Float64 & Float64\\\\\n",
       "\t\\hline\n",
       "\t1 & Australia & 11.43 & 29.35 & 2.87 & 2329.68 & 2.87 \\\\\n",
       "\t2 & Austria & 12.07 & 23.32 & 4.41 & 1507.99 & 3.93 \\\\\n",
       "\t3 & Belgium & 13.17 & 23.8 & 4.43 & 2108.47 & 3.82 \\\\\n",
       "\t4 & Bolivia & 5.75 & 41.89 & 1.67 & 189.13 & 0.22 \\\\\n",
       "\t5 & Brazil & 12.88 & 42.19 & 0.83 & 728.47 & 4.56 \\\\\n",
       "\t6 & Canada & 8.79 & 31.72 & 2.85 & 2982.88 & 2.43 \\\\\n",
       "\t7 & Chile & 0.6 & 39.74 & 1.34 & 662.86 & 2.67 \\\\\n",
       "\t8 & China & 11.9 & 44.75 & 0.67 & 289.52 & 6.51 \\\\\n",
       "\t9 & Colombia & 4.98 & 46.64 & 1.06 & 276.65 & 3.08 \\\\\n",
       "\t10 & Costa Rica & 10.78 & 47.64 & 1.14 & 471.24 & 2.8 \\\\\n",
       "\t11 & Denmark & 16.85 & 24.42 & 3.93 & 2496.53 & 3.99 \\\\\n",
       "\t12 & Ecuador & 3.59 & 46.31 & 1.19 & 287.77 & 2.19 \\\\\n",
       "\t13 & Finland & 11.24 & 27.84 & 2.37 & 1681.25 & 4.32 \\\\\n",
       "\t14 & France & 12.64 & 25.06 & 4.7 & 2213.82 & 4.52 \\\\\n",
       "\t15 & Germany & 12.55 & 23.31 & 3.35 & 2457.12 & 3.44 \\\\\n",
       "\t16 & Greece & 10.67 & 25.62 & 3.1 & 870.85 & 6.28 \\\\\n",
       "\t17 & Guatamala & 3.01 & 46.05 & 0.87 & 289.71 & 1.48 \\\\\n",
       "\t18 & Honduras & 7.7 & 47.32 & 0.58 & 232.44 & 3.19 \\\\\n",
       "\t19 & Iceland & 1.27 & 34.03 & 3.08 & 1900.1 & 1.12 \\\\\n",
       "\t20 & India & 9.0 & 41.31 & 0.96 & 88.94 & 1.54 \\\\\n",
       "\t21 & Ireland & 11.34 & 31.16 & 4.19 & 1139.95 & 2.99 \\\\\n",
       "\t22 & Italy & 14.28 & 24.52 & 3.48 & 1390.0 & 3.54 \\\\\n",
       "\t23 & Japan & 21.1 & 27.01 & 1.91 & 1257.28 & 8.21 \\\\\n",
       "\t24 & Korea & 3.98 & 41.74 & 0.91 & 207.68 & 5.81 \\\\\n",
       "\t25 & Luxembourg & 10.35 & 21.8 & 3.73 & 2449.39 & 1.57 \\\\\n",
       "\t26 & Malta & 15.48 & 32.54 & 2.47 & 601.05 & 8.12 \\\\\n",
       "\t27 & Norway & 10.25 & 25.95 & 3.67 & 2231.03 & 3.62 \\\\\n",
       "\t28 & Netherlands & 14.65 & 24.71 & 3.25 & 1740.7 & 7.66 \\\\\n",
       "\t29 & New Zealand & 10.67 & 32.61 & 3.17 & 1487.52 & 1.76 \\\\\n",
       "\t30 & Nicaragua & 7.3 & 45.04 & 1.21 & 325.54 & 2.48 \\\\\n",
       "\t$\\dots$ & $\\dots$ & $\\dots$ & $\\dots$ & $\\dots$ & $\\dots$ & $\\dots$ \\\\\n",
       "\\end{tabular}\n"
      ],
      "text/plain": [
       "50×6 DataFrame\n",
       "│ Row │ Country        │ SR      │ Pop15   │ Pop75   │ DPI     │ DDPI    │\n",
       "│     │ \u001b[90mString\u001b[39m         │ \u001b[90mFloat64\u001b[39m │ \u001b[90mFloat64\u001b[39m │ \u001b[90mFloat64\u001b[39m │ \u001b[90mFloat64\u001b[39m │ \u001b[90mFloat64\u001b[39m │\n",
       "├─────┼────────────────┼─────────┼─────────┼─────────┼─────────┼─────────┤\n",
       "│ 1   │ Australia      │ 11.43   │ 29.35   │ 2.87    │ 2329.68 │ 2.87    │\n",
       "│ 2   │ Austria        │ 12.07   │ 23.32   │ 4.41    │ 1507.99 │ 3.93    │\n",
       "│ 3   │ Belgium        │ 13.17   │ 23.8    │ 4.43    │ 2108.47 │ 3.82    │\n",
       "│ 4   │ Bolivia        │ 5.75    │ 41.89   │ 1.67    │ 189.13  │ 0.22    │\n",
       "│ 5   │ Brazil         │ 12.88   │ 42.19   │ 0.83    │ 728.47  │ 4.56    │\n",
       "│ 6   │ Canada         │ 8.79    │ 31.72   │ 2.85    │ 2982.88 │ 2.43    │\n",
       "│ 7   │ Chile          │ 0.6     │ 39.74   │ 1.34    │ 662.86  │ 2.67    │\n",
       "│ 8   │ China          │ 11.9    │ 44.75   │ 0.67    │ 289.52  │ 6.51    │\n",
       "│ 9   │ Colombia       │ 4.98    │ 46.64   │ 1.06    │ 276.65  │ 3.08    │\n",
       "│ 10  │ Costa Rica     │ 10.78   │ 47.64   │ 1.14    │ 471.24  │ 2.8     │\n",
       "⋮\n",
       "│ 40  │ Switzerland    │ 14.13   │ 23.49   │ 3.73    │ 2630.96 │ 2.7     │\n",
       "│ 41  │ Turkey         │ 5.13    │ 43.42   │ 1.08    │ 389.66  │ 2.96    │\n",
       "│ 42  │ Tunisia        │ 2.81    │ 46.12   │ 1.21    │ 249.87  │ 1.13    │\n",
       "│ 43  │ United Kingdom │ 7.81    │ 23.27   │ 4.46    │ 1813.93 │ 2.01    │\n",
       "│ 44  │ United States  │ 7.56    │ 29.81   │ 3.43    │ 4001.89 │ 2.45    │\n",
       "│ 45  │ Venezuela      │ 9.22    │ 46.4    │ 0.9     │ 813.39  │ 0.53    │\n",
       "│ 46  │ Zambia         │ 18.56   │ 45.25   │ 0.56    │ 138.33  │ 5.14    │\n",
       "│ 47  │ Jamaica        │ 7.72    │ 41.12   │ 1.73    │ 380.47  │ 10.23   │\n",
       "│ 48  │ Uruguay        │ 9.24    │ 28.13   │ 2.72    │ 766.54  │ 1.88    │\n",
       "│ 49  │ Libya          │ 8.89    │ 43.69   │ 2.07    │ 123.58  │ 16.71   │\n",
       "│ 50  │ Malaysia       │ 4.71    │ 47.2    │ 0.66    │ 242.69  │ 5.08    │"
      ]
     },
     "execution_count": 3,
     "metadata": {},
     "output_type": "execute_result"
    }
   ],
   "source": [
    "LifeCycleSavings = dataset(\"datasets\", \"LifeCycleSavings\")"
   ]
  },
  {
   "cell_type": "code",
   "execution_count": 60,
   "metadata": {},
   "outputs": [],
   "source": [
    "using GLM"
   ]
  },
  {
   "cell_type": "code",
   "execution_count": 61,
   "metadata": {},
   "outputs": [
    {
     "data": {
      "text/plain": [
       "StatsModels.TableRegressionModel{LinearModel{GLM.LmResp{Array{Float64,1}},GLM.DensePredChol{Float64,LinearAlgebra.Cholesky{Float64,Array{Float64,2}}}},Array{Float64,2}}\n",
       "\n",
       "SR ~ 1 + Pop15 + Pop75 + DPI + DDPI\n",
       "\n",
       "Coefficients:\n",
       "─────────────────────────────────────────────────────────────────────────────────────\n",
       "                 Estimate   Std. Error    t value  Pr(>|t|)    Lower 95%    Upper 95%\n",
       "─────────────────────────────────────────────────────────────────────────────────────\n",
       "(Intercept)  28.5661       7.35452       3.88416     0.0003  13.7533      43.3788    \n",
       "Pop15        -0.461193     0.144642     -3.18851     0.0026  -0.752518    -0.169869  \n",
       "Pop75        -1.6915       1.0836       -1.561       0.1255  -3.87398      0.490983  \n",
       "DPI          -0.000336902  0.000931107  -0.361829    0.7192  -0.00221225   0.00153844\n",
       "DDPI          0.409695     0.196197      2.08818     0.0425   0.0145336    0.804856  \n",
       "─────────────────────────────────────────────────────────────────────────────────────"
      ]
     },
     "execution_count": 61,
     "metadata": {},
     "output_type": "execute_result"
    }
   ],
   "source": [
    "fm2 = fit(LinearModel, @formula(SR ~ Pop15 + Pop75 + DPI + DDPI), LifeCycleSavings)"
   ]
  },
  {
   "cell_type": "code",
   "execution_count": 62,
   "metadata": {},
   "outputs": [
    {
     "data": {
      "text/plain": [
       "\"StatsModels.TableRegressionModel{LinearModel{GLM.LmResp{Array{Float64,1}},GLM.DensePredChol{Float64,LinearAlgebra.Cholesky{Float64,Array{Float64,2}}}},Array{Float64,2}}\""
      ]
     },
     "execution_count": 62,
     "metadata": {},
     "output_type": "execute_result"
    }
   ],
   "source": [
    "summary(fm2)"
   ]
  },
  {
   "cell_type": "code",
   "execution_count": 20,
   "metadata": {},
   "outputs": [
    {
     "name": "stdout",
     "output_type": "stream",
     "text": [
      "StatsModels.TableRegressionModel{GeneralizedLinearModel{GLM.GlmResp{Array{Float64,1},Gamma{Float64},InverseLink},GLM.DensePredChol{Float64,LinearAlgebra.Cholesky{Float64,Array{Float64,2}}}},Array{Float64,2}}\n"
     ]
    }
   ],
   "source": [
    "\n",
    "println(summary(fm3))"
   ]
  },
  {
   "cell_type": "code",
   "execution_count": 24,
   "metadata": {},
   "outputs": [
    {
     "name": "stdout",
     "output_type": "stream",
     "text": [
      "\u001b[32m\u001b[1m Resolving\u001b[22m\u001b[39m package versions...\n",
      "\u001b[32m\u001b[1m Installed\u001b[22m\u001b[39m ScikitLearnBase ─ v0.5.0\n",
      "\u001b[32m\u001b[1m Installed\u001b[22m\u001b[39m DecisionTree ──── v0.10.1\n",
      "\u001b[32m\u001b[1m  Updating\u001b[22m\u001b[39m `C:\\Users\\Aimazin\\.julia\\environments\\v1.3\\Project.toml`\n",
      " \u001b[90m [7806a523]\u001b[39m\u001b[92m + DecisionTree v0.10.1\u001b[39m\n",
      "\u001b[32m\u001b[1m  Updating\u001b[22m\u001b[39m `C:\\Users\\Aimazin\\.julia\\environments\\v1.3\\Manifest.toml`\n",
      " \u001b[90m [7806a523]\u001b[39m\u001b[92m + DecisionTree v0.10.1\u001b[39m\n",
      " \u001b[90m [6e75b9c4]\u001b[39m\u001b[92m + ScikitLearnBase v0.5.0\u001b[39m\n"
     ]
    }
   ],
   "source": [
    "Pkg.add(\"DecisionTree\")"
   ]
  },
  {
   "cell_type": "code",
   "execution_count": 4,
   "metadata": {},
   "outputs": [],
   "source": [
    "using DecisionTree"
   ]
  },
  {
   "cell_type": "code",
   "execution_count": 5,
   "metadata": {},
   "outputs": [
    {
     "name": "stdout",
     "output_type": "stream",
     "text": [
      "50×4 DataFrame\n",
      "│ Row │ Pop15   │ Pop75   │ DPI     │ DDPI    │\n",
      "│     │ \u001b[90mFloat64\u001b[39m │ \u001b[90mFloat64\u001b[39m │ \u001b[90mFloat64\u001b[39m │ \u001b[90mFloat64\u001b[39m │\n",
      "├─────┼─────────┼─────────┼─────────┼─────────┤\n",
      "│ 1   │ 29.35   │ 2.87    │ 2329.68 │ 2.87    │\n",
      "│ 2   │ 23.32   │ 4.41    │ 1507.99 │ 3.93    │\n",
      "│ 3   │ 23.8    │ 4.43    │ 2108.47 │ 3.82    │\n",
      "│ 4   │ 41.89   │ 1.67    │ 189.13  │ 0.22    │\n",
      "│ 5   │ 42.19   │ 0.83    │ 728.47  │ 4.56    │\n",
      "│ 6   │ 31.72   │ 2.85    │ 2982.88 │ 2.43    │\n",
      "│ 7   │ 39.74   │ 1.34    │ 662.86  │ 2.67    │\n",
      "│ 8   │ 44.75   │ 0.67    │ 289.52  │ 6.51    │\n",
      "│ 9   │ 46.64   │ 1.06    │ 276.65  │ 3.08    │\n",
      "│ 10  │ 47.64   │ 1.14    │ 471.24  │ 2.8     │\n",
      "│ 11  │ 24.42   │ 3.93    │ 2496.53 │ 3.99    │\n",
      "│ 12  │ 46.31   │ 1.19    │ 287.77  │ 2.19    │\n",
      "│ 13  │ 27.84   │ 2.37    │ 1681.25 │ 4.32    │\n",
      "│ 14  │ 25.06   │ 4.7     │ 2213.82 │ 4.52    │\n",
      "│ 15  │ 23.31   │ 3.35    │ 2457.12 │ 3.44    │\n",
      "│ 16  │ 25.62   │ 3.1     │ 870.85  │ 6.28    │\n",
      "│ 17  │ 46.05   │ 0.87    │ 289.71  │ 1.48    │\n",
      "│ 18  │ 47.32   │ 0.58    │ 232.44  │ 3.19    │\n",
      "│ 19  │ 34.03   │ 3.08    │ 1900.1  │ 1.12    │\n",
      "│ 20  │ 41.31   │ 0.96    │ 88.94   │ 1.54    │\n",
      "│ 21  │ 31.16   │ 4.19    │ 1139.95 │ 2.99    │\n",
      "│ 22  │ 24.52   │ 3.48    │ 1390.0  │ 3.54    │\n",
      "│ 23  │ 27.01   │ 1.91    │ 1257.28 │ 8.21    │\n",
      "│ 24  │ 41.74   │ 0.91    │ 207.68  │ 5.81    │\n",
      "│ 25  │ 21.8    │ 3.73    │ 2449.39 │ 1.57    │\n",
      "│ 26  │ 32.54   │ 2.47    │ 601.05  │ 8.12    │\n",
      "│ 27  │ 25.95   │ 3.67    │ 2231.03 │ 3.62    │\n",
      "│ 28  │ 24.71   │ 3.25    │ 1740.7  │ 7.66    │\n",
      "│ 29  │ 32.61   │ 3.17    │ 1487.52 │ 1.76    │\n",
      "│ 30  │ 45.04   │ 1.21    │ 325.54  │ 2.48    │\n",
      "│ 31  │ 43.56   │ 1.2     │ 568.56  │ 3.61    │\n",
      "│ 32  │ 41.18   │ 1.05    │ 220.56  │ 1.03    │\n",
      "│ 33  │ 44.19   │ 1.28    │ 400.06  │ 0.67    │\n",
      "│ 34  │ 46.26   │ 1.12    │ 152.01  │ 2.0     │\n",
      "│ 35  │ 28.96   │ 2.85    │ 579.51  │ 7.48    │\n",
      "│ 36  │ 31.94   │ 2.28    │ 651.11  │ 2.19    │\n",
      "│ 37  │ 31.92   │ 1.52    │ 250.96  │ 2.0     │\n",
      "│ 38  │ 27.74   │ 2.87    │ 768.79  │ 4.35    │\n",
      "│ 39  │ 21.44   │ 4.54    │ 3299.49 │ 3.01    │\n",
      "│ 40  │ 23.49   │ 3.73    │ 2630.96 │ 2.7     │\n",
      "│ 41  │ 43.42   │ 1.08    │ 389.66  │ 2.96    │\n",
      "│ 42  │ 46.12   │ 1.21    │ 249.87  │ 1.13    │\n",
      "│ 43  │ 23.27   │ 4.46    │ 1813.93 │ 2.01    │\n",
      "│ 44  │ 29.81   │ 3.43    │ 4001.89 │ 2.45    │\n",
      "│ 45  │ 46.4    │ 0.9     │ 813.39  │ 0.53    │\n",
      "│ 46  │ 45.25   │ 0.56    │ 138.33  │ 5.14    │\n",
      "│ 47  │ 41.12   │ 1.73    │ 380.47  │ 10.23   │\n",
      "│ 48  │ 28.13   │ 2.72    │ 766.54  │ 1.88    │\n",
      "│ 49  │ 43.69   │ 2.07    │ 123.58  │ 16.71   │\n",
      "│ 50  │ 47.2    │ 0.66    │ 242.69  │ 5.08    │\n"
     ]
    }
   ],
   "source": [
    "X = LifeCycleSavings[:,3:6]\n",
    "println(X)"
   ]
  },
  {
   "cell_type": "code",
   "execution_count": 17,
   "metadata": {},
   "outputs": [
    {
     "data": {
      "text/plain": [
       "50-element Array{Float64,1}:\n",
       " 11.43\n",
       " 12.07\n",
       " 13.17\n",
       "  5.75\n",
       " 12.88\n",
       "  8.79\n",
       "  0.6 \n",
       " 11.9 \n",
       "  4.98\n",
       " 10.78\n",
       " 16.85\n",
       "  3.59\n",
       " 11.24\n",
       "  ⋮   \n",
       "  6.86\n",
       " 14.13\n",
       "  5.13\n",
       "  2.81\n",
       "  7.81\n",
       "  7.56\n",
       "  9.22\n",
       " 18.56\n",
       "  7.72\n",
       "  9.24\n",
       "  8.89\n",
       "  4.71"
      ]
     },
     "execution_count": 17,
     "metadata": {},
     "output_type": "execute_result"
    }
   ],
   "source": [
    "Y=(LifeCycleSavings[:,2])"
   ]
  },
  {
   "cell_type": "code",
   "execution_count": 25,
   "metadata": {
    "scrolled": true
   },
   "outputs": [
    {
     "data": {
      "text/plain": [
       "DecisionTreeRegressor\n",
       "max_depth:                -1\n",
       "min_samples_leaf:         5\n",
       "min_samples_split:        2\n",
       "min_purity_increase:      0.0\n",
       "pruning_purity_threshold: 1.0\n",
       "n_subfeatures:            0\n",
       "root:                     nothing"
      ]
     },
     "execution_count": 25,
     "metadata": {},
     "output_type": "execute_result"
    }
   ],
   "source": [
    "model = DecisionTreeRegressor()\n",
    "#build_tree(X,Y,model)\n",
    "#build_tree(Y, X)\n",
    "#summary(model)"
   ]
  },
  {
   "cell_type": "code",
   "execution_count": 66,
   "metadata": {},
   "outputs": [
    {
     "data": {
      "text/plain": [
       "\"DecisionTreeRegressor\""
      ]
     },
     "execution_count": 66,
     "metadata": {},
     "output_type": "execute_result"
    }
   ],
   "source": [
    "summary(model)"
   ]
  },
  {
   "cell_type": "code",
   "execution_count": 35,
   "metadata": {},
   "outputs": [
    {
     "name": "stdout",
     "output_type": "stream",
     "text": [
      "\u001b[32m\u001b[1m Resolving\u001b[22m\u001b[39m package versions...\n",
      "\u001b[32m\u001b[1m Installed\u001b[22m\u001b[39m ProgressMeter ────────── v1.2.0\n",
      "\u001b[32m\u001b[1m Installed\u001b[22m\u001b[39m PositiveFactorizations ─ v0.2.3\n",
      "\u001b[32m\u001b[1m Installed\u001b[22m\u001b[39m LegacyStrings ────────── v0.4.1\n",
      "\u001b[32m\u001b[1m Installed\u001b[22m\u001b[39m Compat ───────────────── v2.2.0\n",
      "\u001b[32m\u001b[1m Installed\u001b[22m\u001b[39m IterTools ────────────── v1.3.0\n",
      "\u001b[32m\u001b[1m Installed\u001b[22m\u001b[39m ColorTypes ───────────── v0.9.1\n",
      "\u001b[32m\u001b[1m Installed\u001b[22m\u001b[39m IRTools ──────────────── v0.3.1\n",
      "\u001b[32m\u001b[1m Installed\u001b[22m\u001b[39m ScikitLearn ──────────── v0.5.1\n",
      "\u001b[32m\u001b[1m Installed\u001b[22m\u001b[39m Parameters ───────────── v0.12.0\n",
      "\u001b[32m\u001b[1m Installed\u001b[22m\u001b[39m ElasticArrays ────────── v1.0.0\n",
      "\u001b[32m\u001b[1m Installed\u001b[22m\u001b[39m NBInclude ────────────── v2.1.0\n",
      "\u001b[32m\u001b[1m Installed\u001b[22m\u001b[39m HDF5 ─────────────────── v0.12.5\n",
      "\u001b[32m\u001b[1m Installed\u001b[22m\u001b[39m LineSearches ─────────── v7.0.1\n",
      "\u001b[32m\u001b[1m Installed\u001b[22m\u001b[39m ArrayInterface ───────── v2.4.1\n",
      "\u001b[32m\u001b[1m Installed\u001b[22m\u001b[39m DiffRules ────────────── v1.0.0\n",
      "\u001b[32m\u001b[1m Installed\u001b[22m\u001b[39m ForwardDiff ──────────── v0.10.9\n",
      "\u001b[32m\u001b[1m Installed\u001b[22m\u001b[39m Blosc ────────────────── v0.5.1\n",
      "\u001b[32m\u001b[1m Installed\u001b[22m\u001b[39m PyPlot ───────────────── v2.8.2\n",
      "\u001b[32m\u001b[1m Installed\u001b[22m\u001b[39m FixedPointNumbers ────── v0.7.1\n",
      "\u001b[32m\u001b[1m Installed\u001b[22m\u001b[39m DocStringExtensions ──── v0.8.1\n",
      "\u001b[32m\u001b[1m Installed\u001b[22m\u001b[39m GaussianMixtures ─────── v0.3.0\n",
      "\u001b[32m\u001b[1m Installed\u001b[22m\u001b[39m NLSolversBase ────────── v7.6.1\n",
      "\u001b[32m\u001b[1m Installed\u001b[22m\u001b[39m Colors ───────────────── v0.11.2\n",
      "\u001b[32m\u001b[1m Installed\u001b[22m\u001b[39m Clustering ───────────── v0.13.3\n",
      "\u001b[32m\u001b[1m Installed\u001b[22m\u001b[39m FFTW_jll ─────────────── v3.3.9+3\n",
      "\u001b[32m\u001b[1m Installed\u001b[22m\u001b[39m AbstractFFTs ─────────── v0.5.0\n",
      "\u001b[32m\u001b[1m Installed\u001b[22m\u001b[39m NaNMath ──────────────── v0.3.3\n",
      "\u001b[32m\u001b[1m Installed\u001b[22m\u001b[39m LaTeXStrings ─────────── v1.0.3\n",
      "\u001b[32m\u001b[1m Installed\u001b[22m\u001b[39m PyCall ───────────────── v1.91.2\n",
      "\u001b[32m\u001b[1m Installed\u001b[22m\u001b[39m FastGaussQuadrature ──── v0.4.2\n",
      "\u001b[32m\u001b[1m Installed\u001b[22m\u001b[39m Optim ────────────────── v0.19.7\n",
      "\u001b[32m\u001b[1m Installed\u001b[22m\u001b[39m Documenter ───────────── v0.24.5\n",
      "\u001b[32m\u001b[1m Installed\u001b[22m\u001b[39m URIParser ────────────── v0.4.0\n",
      "\u001b[32m\u001b[1m Installed\u001b[22m\u001b[39m Calculus ─────────────── v0.5.1\n",
      "\u001b[32m\u001b[1m Installed\u001b[22m\u001b[39m NearestNeighbors ─────── v0.4.4\n",
      "\u001b[32m\u001b[1m Installed\u001b[22m\u001b[39m FiniteDiff ───────────── v2.2.0\n",
      "\u001b[32m\u001b[1m Installed\u001b[22m\u001b[39m CommonSubexpressions ─── v0.2.0\n",
      "\u001b[32m\u001b[1m Installed\u001b[22m\u001b[39m DiffEqDiffTools ──────── v1.7.0\n",
      "\u001b[32m\u001b[1m Installed\u001b[22m\u001b[39m DiffResults ──────────── v1.0.2\n",
      "\u001b[32m\u001b[1m Installed\u001b[22m\u001b[39m RecipesBase ──────────── v0.7.0\n",
      "\u001b[32m\u001b[1m Installed\u001b[22m\u001b[39m MKL_jll ──────────────── v2019.0.117+2\n",
      "\u001b[32m\u001b[1m Installed\u001b[22m\u001b[39m IntelOpenMP_jll ──────── v2018.0.3+0\n",
      "\u001b[32m\u001b[1m Installed\u001b[22m\u001b[39m JLD ──────────────────── v0.9.2\n",
      "\u001b[32m\u001b[1m Installed\u001b[22m\u001b[39m FFTW ─────────────────── v1.2.0\n",
      "\u001b[32m\u001b[1m Installed\u001b[22m\u001b[39m StaticArrays ─────────── v0.12.1\n",
      "\u001b[32m\u001b[1m Installed\u001b[22m\u001b[39m GaussianProcesses ────── v0.11.1\n",
      "\u001b[32m\u001b[1m Installed\u001b[22m\u001b[39m ElasticPDMats ────────── v0.2.1\n",
      "\u001b[32m\u001b[1m Installed\u001b[22m\u001b[39m CMake ────────────────── v1.1.2\n",
      "\u001b[32m\u001b[1m Installed\u001b[22m\u001b[39m ZygoteRules ──────────── v0.2.0\n",
      "\u001b[32m\u001b[1m Installed\u001b[22m\u001b[39m BinDeps ──────────────── v1.0.0\n",
      "\u001b[32m\u001b[1m Installed\u001b[22m\u001b[39m Distances ────────────── v0.8.2\n",
      "\u001b[32m\u001b[1m Installed\u001b[22m\u001b[39m MacroTools ───────────── v0.5.4\n",
      "\u001b[32m\u001b[1m Installed\u001b[22m\u001b[39m NNlib ────────────────── v0.6.4\n",
      "\u001b[32m\u001b[1m Installed\u001b[22m\u001b[39m CMakeWrapper ─────────── v0.2.3\n",
      "\u001b[32m\u001b[1m Installed\u001b[22m\u001b[39m Zygote ───────────────── v0.4.7\n",
      "\u001b[32m\u001b[1m  Updating\u001b[22m\u001b[39m `C:\\Users\\Aimazin\\.julia\\environments\\v1.3\\Project.toml`\n",
      " \u001b[90m [3646fa90]\u001b[39m\u001b[92m + ScikitLearn v0.5.1\u001b[39m\n",
      "\u001b[32m\u001b[1m  Updating\u001b[22m\u001b[39m `C:\\Users\\Aimazin\\.julia\\environments\\v1.3\\Manifest.toml`\n",
      " \u001b[90m [621f4979]\u001b[39m\u001b[92m + AbstractFFTs v0.5.0\u001b[39m\n",
      " \u001b[90m [4fba245c]\u001b[39m\u001b[92m + ArrayInterface v2.4.1\u001b[39m\n",
      " \u001b[90m [9e28174c]\u001b[39m\u001b[92m + BinDeps v1.0.0\u001b[39m\n",
      " \u001b[90m [a74b3585]\u001b[39m\u001b[92m + Blosc v0.5.1\u001b[39m\n",
      " \u001b[90m [631607c0]\u001b[39m\u001b[92m + CMake v1.1.2\u001b[39m\n",
      " \u001b[90m [d5fb7624]\u001b[39m\u001b[92m + CMakeWrapper v0.2.3\u001b[39m\n",
      " \u001b[90m [49dc2e85]\u001b[39m\u001b[92m + Calculus v0.5.1\u001b[39m\n",
      " \u001b[90m [aaaa29a8]\u001b[39m\u001b[92m + Clustering v0.13.3\u001b[39m\n",
      " \u001b[90m [3da002f7]\u001b[39m\u001b[92m + ColorTypes v0.9.1\u001b[39m\n",
      " \u001b[90m [5ae59095]\u001b[39m\u001b[92m + Colors v0.11.2\u001b[39m\n",
      " \u001b[90m [bbf7d656]\u001b[39m\u001b[92m + CommonSubexpressions v0.2.0\u001b[39m\n",
      " \u001b[90m [34da2185]\u001b[39m\u001b[95m ↓ Compat v3.3.1 ⇒ v2.2.0\u001b[39m\n",
      " \u001b[90m [01453d9d]\u001b[39m\u001b[92m + DiffEqDiffTools v1.7.0\u001b[39m\n",
      " \u001b[90m [163ba53b]\u001b[39m\u001b[92m + DiffResults v1.0.2\u001b[39m\n",
      " \u001b[90m [b552c78f]\u001b[39m\u001b[92m + DiffRules v1.0.0\u001b[39m\n",
      " \u001b[90m [b4f34e82]\u001b[39m\u001b[92m + Distances v0.8.2\u001b[39m\n",
      " \u001b[90m [ffbed154]\u001b[39m\u001b[92m + DocStringExtensions v0.8.1\u001b[39m\n",
      " \u001b[90m [e30172f5]\u001b[39m\u001b[92m + Documenter v0.24.5\u001b[39m\n",
      " \u001b[90m [fdbdab4c]\u001b[39m\u001b[92m + ElasticArrays v1.0.0\u001b[39m\n",
      " \u001b[90m [2904ab23]\u001b[39m\u001b[92m + ElasticPDMats v0.2.1\u001b[39m\n",
      " \u001b[90m [7a1cc6ca]\u001b[39m\u001b[92m + FFTW v1.2.0\u001b[39m\n",
      " \u001b[90m [f5851436]\u001b[39m\u001b[92m + FFTW_jll v3.3.9+3\u001b[39m\n",
      " \u001b[90m [442a2c76]\u001b[39m\u001b[92m + FastGaussQuadrature v0.4.2\u001b[39m\n",
      " \u001b[90m [6a86dc24]\u001b[39m\u001b[92m + FiniteDiff v2.2.0\u001b[39m\n",
      " \u001b[90m [53c48c17]\u001b[39m\u001b[92m + FixedPointNumbers v0.7.1\u001b[39m\n",
      " \u001b[90m [f6369f11]\u001b[39m\u001b[92m + ForwardDiff v0.10.9\u001b[39m\n",
      " \u001b[90m [cc18c42c]\u001b[39m\u001b[92m + GaussianMixtures v0.3.0\u001b[39m\n",
      " \u001b[90m [891a1506]\u001b[39m\u001b[92m + GaussianProcesses v0.11.1\u001b[39m\n",
      " \u001b[90m [f67ccb44]\u001b[39m\u001b[92m + HDF5 v0.12.5\u001b[39m\n",
      " \u001b[90m [7869d1d1]\u001b[39m\u001b[92m + IRTools v0.3.1\u001b[39m\n",
      " \u001b[90m [1d5cc7b8]\u001b[39m\u001b[92m + IntelOpenMP_jll v2018.0.3+0\u001b[39m\n",
      " \u001b[90m [c8e1da08]\u001b[39m\u001b[92m + IterTools v1.3.0\u001b[39m\n",
      " \u001b[90m [4138dd39]\u001b[39m\u001b[92m + JLD v0.9.2\u001b[39m\n",
      " \u001b[90m [b964fa9f]\u001b[39m\u001b[92m + LaTeXStrings v1.0.3\u001b[39m\n",
      " \u001b[90m [1b4a561d]\u001b[39m\u001b[92m + LegacyStrings v0.4.1\u001b[39m\n",
      " \u001b[90m [d3d80556]\u001b[39m\u001b[92m + LineSearches v7.0.1\u001b[39m\n",
      " \u001b[90m [856f044c]\u001b[39m\u001b[92m + MKL_jll v2019.0.117+2\u001b[39m\n",
      " \u001b[90m [1914dd2f]\u001b[39m\u001b[92m + MacroTools v0.5.4\u001b[39m\n",
      " \u001b[90m [0db19996]\u001b[39m\u001b[92m + NBInclude v2.1.0\u001b[39m\n",
      " \u001b[90m [d41bc354]\u001b[39m\u001b[92m + NLSolversBase v7.6.1\u001b[39m\n",
      " \u001b[90m [872c559c]\u001b[39m\u001b[92m + NNlib v0.6.4\u001b[39m\n",
      " \u001b[90m [77ba4419]\u001b[39m\u001b[92m + NaNMath v0.3.3\u001b[39m\n",
      " \u001b[90m [b8a86587]\u001b[39m\u001b[92m + NearestNeighbors v0.4.4\u001b[39m\n",
      " \u001b[90m [429524aa]\u001b[39m\u001b[92m + Optim v0.19.7\u001b[39m\n",
      " \u001b[90m [d96e819e]\u001b[39m\u001b[92m + Parameters v0.12.0\u001b[39m\n",
      " \u001b[90m [85a6dd25]\u001b[39m\u001b[92m + PositiveFactorizations v0.2.3\u001b[39m\n",
      " \u001b[90m [92933f4c]\u001b[39m\u001b[92m + ProgressMeter v1.2.0\u001b[39m\n",
      " \u001b[90m [438e738f]\u001b[39m\u001b[92m + PyCall v1.91.2\u001b[39m\n",
      " \u001b[90m [d330b81b]\u001b[39m\u001b[92m + PyPlot v2.8.2\u001b[39m\n",
      " \u001b[90m [3cdcf5f2]\u001b[39m\u001b[92m + RecipesBase v0.7.0\u001b[39m\n",
      " \u001b[90m [3646fa90]\u001b[39m\u001b[92m + ScikitLearn v0.5.1\u001b[39m\n",
      " \u001b[90m [90137ffa]\u001b[39m\u001b[92m + StaticArrays v0.12.1\u001b[39m\n",
      " \u001b[90m [30578b45]\u001b[39m\u001b[92m + URIParser v0.4.0\u001b[39m\n",
      " \u001b[90m [e88e6eb3]\u001b[39m\u001b[92m + Zygote v0.4.7\u001b[39m\n",
      " \u001b[90m [700de1a5]\u001b[39m\u001b[92m + ZygoteRules v0.2.0\u001b[39m\n",
      "\u001b[32m\u001b[1m  Building\u001b[22m\u001b[39m CMake ─→ `C:\\Users\\Aimazin\\.julia\\packages\\CMake\\nSK2r\\deps\\build.log`\n",
      "\u001b[32m\u001b[1m  Building\u001b[22m\u001b[39m Blosc ─→ `C:\\Users\\Aimazin\\.julia\\packages\\Blosc\\lzFr0\\deps\\build.log`\n",
      "\u001b[32m\u001b[1m  Building\u001b[22m\u001b[39m HDF5 ──→ `C:\\Users\\Aimazin\\.julia\\packages\\HDF5\\Zh9on\\deps\\build.log`\n",
      "\u001b[32m\u001b[1m  Building\u001b[22m\u001b[39m PyCall → `C:\\Users\\Aimazin\\.julia\\packages\\PyCall\\ttONZ\\deps\\build.log`\n",
      "\u001b[32m\u001b[1m  Building\u001b[22m\u001b[39m FFTW ──→ `C:\\Users\\Aimazin\\.julia\\packages\\FFTW\\qqcBj\\deps\\build.log`\n",
      "\u001b[32m\u001b[1m  Building\u001b[22m\u001b[39m NNlib ─→ `C:\\Users\\Aimazin\\.julia\\packages\\NNlib\\3krvM\\deps\\build.log`\n"
     ]
    }
   ],
   "source": [
    "Pkg.add(\"ScikitLearn\")"
   ]
  },
  {
   "cell_type": "code",
   "execution_count": 36,
   "metadata": {},
   "outputs": [
    {
     "name": "stderr",
     "output_type": "stream",
     "text": [
      "┌ Info: Precompiling XGBoost [009559a3-9522-5dbb-924b-0b6ed2b22bb9]\n",
      "└ @ Base loading.jl:1273\n"
     ]
    }
   ],
   "source": [
    "using XGBoost"
   ]
  },
  {
   "cell_type": "code",
   "execution_count": 54,
   "metadata": {},
   "outputs": [
    {
     "data": {
      "text/plain": [
       "DMatrix(Ptr{Nothing} @0x000000004cfee6c0, XGBoost.var\"#_setinfo#8\"())"
      ]
     },
     "execution_count": 54,
     "metadata": {},
     "output_type": "execute_result"
    }
   ],
   "source": [
    "dtrain = DMatrix(x1,label=Y)"
   ]
  },
  {
   "cell_type": "code",
   "execution_count": 53,
   "metadata": {},
   "outputs": [
    {
     "data": {
      "text/plain": [
       "50×4 Array{Float64,2}:\n",
       " 29.35  2.87  2329.68   2.87\n",
       " 23.32  4.41  1507.99   3.93\n",
       " 23.8   4.43  2108.47   3.82\n",
       " 41.89  1.67   189.13   0.22\n",
       " 42.19  0.83   728.47   4.56\n",
       " 31.72  2.85  2982.88   2.43\n",
       " 39.74  1.34   662.86   2.67\n",
       " 44.75  0.67   289.52   6.51\n",
       " 46.64  1.06   276.65   3.08\n",
       " 47.64  1.14   471.24   2.8 \n",
       " 24.42  3.93  2496.53   3.99\n",
       " 46.31  1.19   287.77   2.19\n",
       " 27.84  2.37  1681.25   4.32\n",
       "  ⋮                         \n",
       " 21.44  4.54  3299.49   3.01\n",
       " 23.49  3.73  2630.96   2.7 \n",
       " 43.42  1.08   389.66   2.96\n",
       " 46.12  1.21   249.87   1.13\n",
       " 23.27  4.46  1813.93   2.01\n",
       " 29.81  3.43  4001.89   2.45\n",
       " 46.4   0.9    813.39   0.53\n",
       " 45.25  0.56   138.33   5.14\n",
       " 41.12  1.73   380.47  10.23\n",
       " 28.13  2.72   766.54   1.88\n",
       " 43.69  2.07   123.58  16.71\n",
       " 47.2   0.66   242.69   5.08"
      ]
     },
     "execution_count": 53,
     "metadata": {},
     "output_type": "execute_result"
    }
   ],
   "source": [
    "x1=Array(X)"
   ]
  },
  {
   "cell_type": "code",
   "execution_count": 58,
   "metadata": {},
   "outputs": [
    {
     "name": "stderr",
     "output_type": "stream",
     "text": [
      "[1]\ttrain-rmse:3.391522\n",
      "[2]\ttrain-rmse:2.845736\n",
      "[3]\ttrain-rmse:2.365470\n",
      "[4]\ttrain-rmse:2.113362\n",
      "[5]\ttrain-rmse:1.868860\n",
      "[6]\ttrain-rmse:1.675207\n",
      "[7]\ttrain-rmse:1.554201\n",
      "[8]\ttrain-rmse:1.375835\n",
      "[9]\ttrain-rmse:1.289181\n",
      "[10]\ttrain-rmse:1.133281\n",
      "[11]\ttrain-rmse:1.045331\n",
      "[12]\ttrain-rmse:0.963867\n",
      "[13]\ttrain-rmse:0.895553\n",
      "[14]\ttrain-rmse:0.817458\n",
      "[15]\ttrain-rmse:0.728337\n",
      "[16]\ttrain-rmse:0.655173\n",
      "[17]\ttrain-rmse:0.603845\n",
      "[18]\ttrain-rmse:0.562584\n",
      "[19]\ttrain-rmse:0.519317\n",
      "[20]\ttrain-rmse:0.495222\n"
     ]
    },
    {
     "data": {
      "text/plain": [
       "Booster(Ptr{Nothing} @0x000000004d874dd0)"
      ]
     },
     "execution_count": 58,
     "metadata": {},
     "output_type": "execute_result"
    }
   ],
   "source": [
    "#l=Y[1:10]\n",
    "num_round = 20\n",
    "bst = xgboost(dtrain, num_round , eta = 1, max_depth = 2)"
   ]
  },
  {
   "cell_type": "code",
   "execution_count": 56,
   "metadata": {},
   "outputs": [
    {
     "data": {
      "text/plain": [
       "\"Booster\""
      ]
     },
     "execution_count": 56,
     "metadata": {},
     "output_type": "execute_result"
    }
   ],
   "source": [
    "summary(bst)"
   ]
  }
 ],
 "metadata": {
  "kernelspec": {
   "display_name": "Julia 1.3.1",
   "language": "julia",
   "name": "julia-1.3"
  },
  "language_info": {
   "file_extension": ".jl",
   "mimetype": "application/julia",
   "name": "julia",
   "version": "1.3.1"
  }
 },
 "nbformat": 4,
 "nbformat_minor": 4
}
